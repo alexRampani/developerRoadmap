{
  "nbformat": 4,
  "nbformat_minor": 0,
  "metadata": {
    "colab": {
      "name": "estruturas_condicionais.ipynb",
      "provenance": [],
      "authorship_tag": "ABX9TyMkls3gHAsoPRFemMJ2vMMw",
      "include_colab_link": true
    },
    "kernelspec": {
      "name": "python3",
      "display_name": "Python 3"
    },
    "language_info": {
      "name": "python"
    }
  },
  "cells": [
    {
      "cell_type": "markdown",
      "metadata": {
        "id": "view-in-github",
        "colab_type": "text"
      },
      "source": [
        "<a href=\"https://colab.research.google.com/github/alexRampani/developerRoadmap/blob/master/estruturas_condicionais.ipynb\" target=\"_parent\"><img src=\"https://colab.research.google.com/assets/colab-badge.svg\" alt=\"Open In Colab\"/></a>"
      ]
    },
    {
      "cell_type": "code",
      "execution_count": 8,
      "metadata": {
        "colab": {
          "base_uri": "https://localhost:8080/"
        },
        "id": "HUKmkujbDtcX",
        "outputId": "c3ca5b25-1ba9-48ed-d75d-756d5e1f15a8"
      },
      "outputs": [
        {
          "output_type": "stream",
          "name": "stdout",
          "text": [
            "Insira a sua idade:14\n",
            "Usuário classificado como adolescente\n"
          ]
        }
      ],
      "source": [
        "\"\"\"\n",
        "Leia a idade do usuário e classifique-o em:\n",
        "- Criança – 0 a 12 anos\n",
        "- Adolescente – 13 a 17 anos\n",
        "- Adulto – acima de 18 anos\n",
        "-Se o usuário digitar um número negativo, mostrar a mensagem que a idade é inválida\n",
        "\"\"\"\n",
        "\n",
        "idade = int(input('Insira a sua idade:'))\n",
        "\n",
        "if (idade >= 0) and (idade <= 12):\n",
        "  print('Usuário classificado como criança.')\n",
        "elif (idade >= 13) and (idade <= 17):\n",
        "  print('Usuário classificado como adolescente')\n",
        "elif (idade >= 18):\n",
        "  print('Usuário classificado como adulto.')\n",
        "elif (idade < 0):\n",
        "  print('Favor digitar um valor maior que zero')\n",
        "else:\n",
        "  print('Favor rever o valor inserido.')\n"
      ]
    },
    {
      "cell_type": "code",
      "source": [
        "\"\"\"\n",
        "Calcular a média de um aluno que cursou a disciplina de Programação I, a partir \n",
        "da leitura das notas M1, M2 e M3; passando por um cálculo da média aritmética. \n",
        "Após a média calculada, devemos anunciar se o aluno foi aprovado, \n",
        "reprovado ou pegou exame\n",
        "- Se a média estiver entre 0.0 e 4.0, o aluno está reprovado\n",
        "- Se a média estiver entre 4.1 e 6.0, o aluno pegou exame\n",
        "- Se a média for maior do que 6.0, o aluno está aprovado\n",
        "- Se o aluno pegou exame, deve ser lida a nota do exame. Se a nota do exame \n",
        "for maior do que 6.0, está aprovado, senão; está reprovado\n",
        "\"\"\"\n",
        "\n",
        "import statistics as stat\n",
        "\n",
        "notas = int(input('Insira a quantidade de notas do aluno:'))\n",
        "listaNotas = []\n",
        "\n",
        "for i in range(1,notas+1):\n",
        "  listaNotas.append(float(input(f'Insira a nota M{i}:')))\n",
        "\n",
        "media = stat.mean(listaNotas)\n",
        "\n",
        "if (media >= 0) and (media <= 4):\n",
        "  print('Reprovado.')\n",
        "elif (media >= 4.1) and (media <= 6):\n",
        "  print('Média = ', round(media,2), ' Aluno pegou exame!')\n",
        "  exame = float(input('Insira a nota do exame:'))\n",
        "  if exame > 6:\n",
        "    print('Aprovado')\n",
        "  else:\n",
        "    print('Reprovado.')\n",
        "elif (media > 6):\n",
        "  print('Aprovado.')\n",
        "\n",
        "listaNotas.clear()"
      ],
      "metadata": {
        "id": "rFfOHN36E3e3"
      },
      "execution_count": null,
      "outputs": []
    },
    {
      "cell_type": "code",
      "source": [
        "6\n",
        "\n"
      ],
      "metadata": {
        "id": "vqSnTlzKImgE"
      },
      "execution_count": 23,
      "outputs": []
    },
    {
      "cell_type": "code",
      "source": [
        ""
      ],
      "metadata": {
        "id": "Z2sLBJc4MgQH"
      },
      "execution_count": null,
      "outputs": []
    }
  ]
}